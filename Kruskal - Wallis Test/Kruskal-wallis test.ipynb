{
 "cells": [
  {
   "cell_type": "code",
   "execution_count": 3,
   "id": "fa6f5ba9",
   "metadata": {},
   "outputs": [],
   "source": [
    "### libraries required\n",
    "\n",
    "\n",
    "import pandas as pd\n",
    "import numpy as np\n",
    "import matplotlib.pyplot as plt\n",
    "import seaborn as sns\n",
    "import scipy.stats as sc\n",
    "import pingouin as pg\n",
    "from bioinfokit.analys import stat\n",
    "import statsmodels.graphics.gofplots as sm\n",
    "from scipy import stats"
   ]
  },
  {
   "cell_type": "markdown",
   "id": "3bfca7d6",
   "metadata": {},
   "source": [
    "## Python for Lean Six Sigma - Kruska-Wallis Test"
   ]
  },
  {
   "cell_type": "markdown",
   "id": "4fd40993",
   "metadata": {},
   "source": [
    "## Problem Statement\n",
    "\n",
    "## 1. Scenario \n",
    " You are the Continous Improvement Manager of a Distribution Center (DC) for an iconic Luxury Maison focusing on Fashion, Fragrances and Watches.  \n",
    " The warehouse receives garments that require final assembling and value-added service (VAS) during the inbound process.  \n",
    " For each dress received your operators need to print a label in the local language and perform label sewing.  \n",
    " In this article, we will focus on the improvement of label sewing productivity. Labels are distributed to the operators by batches of 30 labels.  \n",
    " The productivity is calculated based on the time (in seconds) needed to finish a batch.\n",
    "\n"
   ]
  },
  {
   "cell_type": "markdown",
   "id": "314333d9",
   "metadata": {},
   "source": [
    "## 2. Impact of training your workforce"
   ]
  },
  {
   "cell_type": "markdown",
   "id": "5f097fc8",
   "metadata": {},
   "source": [
    "With the support of the R&D team, you designed training for the VAS operators to improve their productivity and reduce quality issues."
   ]
  },
  {
   "cell_type": "markdown",
   "id": "3edbbc27",
   "metadata": {},
   "source": [
    "## **Question**"
   ]
  },
  {
   "cell_type": "markdown",
   "id": "4b194af7",
   "metadata": {},
   "source": [
    "Does the training have a positive impact on the productivity of operators?\n"
   ]
  },
  {
   "cell_type": "markdown",
   "id": "40cffe5d",
   "metadata": {},
   "source": [
    "## Hypothesis"
   ]
  },
  {
   "cell_type": "code",
   "execution_count": null,
   "id": "d97b5e29",
   "metadata": {},
   "outputs": [],
   "source": [
    "Does the training have a positive impact on the productivity of operators?\n"
   ]
  },
  {
   "cell_type": "markdown",
   "id": "fae16eb0",
   "metadata": {},
   "source": [
    "## Experiment"
   ]
  },
  {
   "cell_type": "markdown",
   "id": "18b18a5e",
   "metadata": {},
   "source": [
    "Randomly select operators and measure the time per batch (Time to finish a batch of 30 labels in seconds) to build a sample of 56 records"
   ]
  },
  {
   "cell_type": "markdown",
   "id": "a64ec4a4",
   "metadata": {},
   "source": [
    "### Import Data"
   ]
  },
  {
   "cell_type": "code",
   "execution_count": 8,
   "id": "d38ab917",
   "metadata": {},
   "outputs": [],
   "source": [
    "# Import Data\n",
    "df_sewing = pd.read_excel(\"/Users/deepjeetdatta/Downloads/df_sewing.xlsx\")"
   ]
  },
  {
   "cell_type": "code",
   "execution_count": 20,
   "id": "31473b56",
   "metadata": {},
   "outputs": [
    {
     "data": {
      "text/html": [
       "<div>\n",
       "<style scoped>\n",
       "    .dataframe tbody tr th:only-of-type {\n",
       "        vertical-align: middle;\n",
       "    }\n",
       "\n",
       "    .dataframe tbody tr th {\n",
       "        vertical-align: top;\n",
       "    }\n",
       "\n",
       "    .dataframe thead th {\n",
       "        text-align: right;\n",
       "    }\n",
       "</style>\n",
       "<table border=\"1\" class=\"dataframe\">\n",
       "  <thead>\n",
       "    <tr style=\"text-align: right;\">\n",
       "      <th></th>\n",
       "      <th>Time</th>\n",
       "      <th>Training</th>\n",
       "    </tr>\n",
       "  </thead>\n",
       "  <tbody>\n",
       "    <tr>\n",
       "      <th>0</th>\n",
       "      <td>332</td>\n",
       "      <td>No</td>\n",
       "    </tr>\n",
       "    <tr>\n",
       "      <th>1</th>\n",
       "      <td>778</td>\n",
       "      <td>No</td>\n",
       "    </tr>\n",
       "    <tr>\n",
       "      <th>2</th>\n",
       "      <td>361</td>\n",
       "      <td>No</td>\n",
       "    </tr>\n",
       "    <tr>\n",
       "      <th>3</th>\n",
       "      <td>794</td>\n",
       "      <td>No</td>\n",
       "    </tr>\n",
       "    <tr>\n",
       "      <th>4</th>\n",
       "      <td>231</td>\n",
       "      <td>No</td>\n",
       "    </tr>\n",
       "    <tr>\n",
       "      <th>5</th>\n",
       "      <td>375</td>\n",
       "      <td>No</td>\n",
       "    </tr>\n",
       "    <tr>\n",
       "      <th>6</th>\n",
       "      <td>841</td>\n",
       "      <td>No</td>\n",
       "    </tr>\n",
       "    <tr>\n",
       "      <th>7</th>\n",
       "      <td>596</td>\n",
       "      <td>No</td>\n",
       "    </tr>\n",
       "    <tr>\n",
       "      <th>8</th>\n",
       "      <td>124</td>\n",
       "      <td>No</td>\n",
       "    </tr>\n",
       "    <tr>\n",
       "      <th>9</th>\n",
       "      <td>224</td>\n",
       "      <td>No</td>\n",
       "    </tr>\n",
       "    <tr>\n",
       "      <th>10</th>\n",
       "      <td>138</td>\n",
       "      <td>No</td>\n",
       "    </tr>\n",
       "    <tr>\n",
       "      <th>11</th>\n",
       "      <td>317</td>\n",
       "      <td>No</td>\n",
       "    </tr>\n",
       "    <tr>\n",
       "      <th>12</th>\n",
       "      <td>121</td>\n",
       "      <td>No</td>\n",
       "    </tr>\n",
       "    <tr>\n",
       "      <th>13</th>\n",
       "      <td>506</td>\n",
       "      <td>No</td>\n",
       "    </tr>\n",
       "    <tr>\n",
       "      <th>14</th>\n",
       "      <td>412</td>\n",
       "      <td>No</td>\n",
       "    </tr>\n",
       "    <tr>\n",
       "      <th>15</th>\n",
       "      <td>163</td>\n",
       "      <td>No</td>\n",
       "    </tr>\n",
       "    <tr>\n",
       "      <th>16</th>\n",
       "      <td>241</td>\n",
       "      <td>No</td>\n",
       "    </tr>\n",
       "    <tr>\n",
       "      <th>17</th>\n",
       "      <td>910</td>\n",
       "      <td>No</td>\n",
       "    </tr>\n",
       "    <tr>\n",
       "      <th>18</th>\n",
       "      <td>411</td>\n",
       "      <td>No</td>\n",
       "    </tr>\n",
       "    <tr>\n",
       "      <th>19</th>\n",
       "      <td>448</td>\n",
       "      <td>No</td>\n",
       "    </tr>\n",
       "    <tr>\n",
       "      <th>20</th>\n",
       "      <td>538</td>\n",
       "      <td>No</td>\n",
       "    </tr>\n",
       "    <tr>\n",
       "      <th>21</th>\n",
       "      <td>211</td>\n",
       "      <td>No</td>\n",
       "    </tr>\n",
       "    <tr>\n",
       "      <th>22</th>\n",
       "      <td>212</td>\n",
       "      <td>No</td>\n",
       "    </tr>\n",
       "    <tr>\n",
       "      <th>23</th>\n",
       "      <td>160</td>\n",
       "      <td>No</td>\n",
       "    </tr>\n",
       "    <tr>\n",
       "      <th>24</th>\n",
       "      <td>613</td>\n",
       "      <td>No</td>\n",
       "    </tr>\n",
       "    <tr>\n",
       "      <th>25</th>\n",
       "      <td>142</td>\n",
       "      <td>No</td>\n",
       "    </tr>\n",
       "    <tr>\n",
       "      <th>26</th>\n",
       "      <td>155</td>\n",
       "      <td>No</td>\n",
       "    </tr>\n",
       "    <tr>\n",
       "      <th>27</th>\n",
       "      <td>173</td>\n",
       "      <td>No</td>\n",
       "    </tr>\n",
       "    <tr>\n",
       "      <th>28</th>\n",
       "      <td>116</td>\n",
       "      <td>No</td>\n",
       "    </tr>\n",
       "    <tr>\n",
       "      <th>29</th>\n",
       "      <td>428</td>\n",
       "      <td>No</td>\n",
       "    </tr>\n",
       "    <tr>\n",
       "      <th>30</th>\n",
       "      <td>197</td>\n",
       "      <td>No</td>\n",
       "    </tr>\n",
       "    <tr>\n",
       "      <th>31</th>\n",
       "      <td>96</td>\n",
       "      <td>No</td>\n",
       "    </tr>\n",
       "    <tr>\n",
       "      <th>32</th>\n",
       "      <td>246</td>\n",
       "      <td>No</td>\n",
       "    </tr>\n",
       "    <tr>\n",
       "      <th>33</th>\n",
       "      <td>335</td>\n",
       "      <td>No</td>\n",
       "    </tr>\n",
       "    <tr>\n",
       "      <th>34</th>\n",
       "      <td>141</td>\n",
       "      <td>No</td>\n",
       "    </tr>\n",
       "    <tr>\n",
       "      <th>35</th>\n",
       "      <td>191</td>\n",
       "      <td>Yes</td>\n",
       "    </tr>\n",
       "    <tr>\n",
       "      <th>36</th>\n",
       "      <td>351</td>\n",
       "      <td>Yes</td>\n",
       "    </tr>\n",
       "    <tr>\n",
       "      <th>37</th>\n",
       "      <td>213</td>\n",
       "      <td>Yes</td>\n",
       "    </tr>\n",
       "    <tr>\n",
       "      <th>38</th>\n",
       "      <td>113</td>\n",
       "      <td>Yes</td>\n",
       "    </tr>\n",
       "    <tr>\n",
       "      <th>39</th>\n",
       "      <td>140</td>\n",
       "      <td>Yes</td>\n",
       "    </tr>\n",
       "    <tr>\n",
       "      <th>40</th>\n",
       "      <td>160</td>\n",
       "      <td>Yes</td>\n",
       "    </tr>\n",
       "    <tr>\n",
       "      <th>41</th>\n",
       "      <td>206</td>\n",
       "      <td>Yes</td>\n",
       "    </tr>\n",
       "    <tr>\n",
       "      <th>42</th>\n",
       "      <td>119</td>\n",
       "      <td>Yes</td>\n",
       "    </tr>\n",
       "    <tr>\n",
       "      <th>43</th>\n",
       "      <td>74</td>\n",
       "      <td>Yes</td>\n",
       "    </tr>\n",
       "    <tr>\n",
       "      <th>44</th>\n",
       "      <td>222</td>\n",
       "      <td>Yes</td>\n",
       "    </tr>\n",
       "    <tr>\n",
       "      <th>45</th>\n",
       "      <td>108</td>\n",
       "      <td>Yes</td>\n",
       "    </tr>\n",
       "    <tr>\n",
       "      <th>46</th>\n",
       "      <td>270</td>\n",
       "      <td>Yes</td>\n",
       "    </tr>\n",
       "    <tr>\n",
       "      <th>47</th>\n",
       "      <td>61</td>\n",
       "      <td>Yes</td>\n",
       "    </tr>\n",
       "    <tr>\n",
       "      <th>48</th>\n",
       "      <td>78</td>\n",
       "      <td>Yes</td>\n",
       "    </tr>\n",
       "    <tr>\n",
       "      <th>49</th>\n",
       "      <td>270</td>\n",
       "      <td>Yes</td>\n",
       "    </tr>\n",
       "    <tr>\n",
       "      <th>50</th>\n",
       "      <td>195</td>\n",
       "      <td>Yes</td>\n",
       "    </tr>\n",
       "    <tr>\n",
       "      <th>51</th>\n",
       "      <td>211</td>\n",
       "      <td>Yes</td>\n",
       "    </tr>\n",
       "    <tr>\n",
       "      <th>52</th>\n",
       "      <td>134</td>\n",
       "      <td>Yes</td>\n",
       "    </tr>\n",
       "    <tr>\n",
       "      <th>53</th>\n",
       "      <td>71</td>\n",
       "      <td>Yes</td>\n",
       "    </tr>\n",
       "    <tr>\n",
       "      <th>54</th>\n",
       "      <td>197</td>\n",
       "      <td>Yes</td>\n",
       "    </tr>\n",
       "    <tr>\n",
       "      <th>55</th>\n",
       "      <td>228</td>\n",
       "      <td>Yes</td>\n",
       "    </tr>\n",
       "  </tbody>\n",
       "</table>\n",
       "</div>"
      ],
      "text/plain": [
       "    Time Training\n",
       "0    332       No\n",
       "1    778       No\n",
       "2    361       No\n",
       "3    794       No\n",
       "4    231       No\n",
       "5    375       No\n",
       "6    841       No\n",
       "7    596       No\n",
       "8    124       No\n",
       "9    224       No\n",
       "10   138       No\n",
       "11   317       No\n",
       "12   121       No\n",
       "13   506       No\n",
       "14   412       No\n",
       "15   163       No\n",
       "16   241       No\n",
       "17   910       No\n",
       "18   411       No\n",
       "19   448       No\n",
       "20   538       No\n",
       "21   211       No\n",
       "22   212       No\n",
       "23   160       No\n",
       "24   613       No\n",
       "25   142       No\n",
       "26   155       No\n",
       "27   173       No\n",
       "28   116       No\n",
       "29   428       No\n",
       "30   197       No\n",
       "31    96       No\n",
       "32   246       No\n",
       "33   335       No\n",
       "34   141       No\n",
       "35   191      Yes\n",
       "36   351      Yes\n",
       "37   213      Yes\n",
       "38   113      Yes\n",
       "39   140      Yes\n",
       "40   160      Yes\n",
       "41   206      Yes\n",
       "42   119      Yes\n",
       "43    74      Yes\n",
       "44   222      Yes\n",
       "45   108      Yes\n",
       "46   270      Yes\n",
       "47    61      Yes\n",
       "48    78      Yes\n",
       "49   270      Yes\n",
       "50   195      Yes\n",
       "51   211      Yes\n",
       "52   134      Yes\n",
       "53    71      Yes\n",
       "54   197      Yes\n",
       "55   228      Yes"
      ]
     },
     "execution_count": 20,
     "metadata": {},
     "output_type": "execute_result"
    }
   ],
   "source": [
    "df_sewing"
   ]
  },
  {
   "cell_type": "code",
   "execution_count": 9,
   "id": "187d1a80",
   "metadata": {},
   "outputs": [
    {
     "data": {
      "text/html": [
       "<div>\n",
       "<style scoped>\n",
       "    .dataframe tbody tr th:only-of-type {\n",
       "        vertical-align: middle;\n",
       "    }\n",
       "\n",
       "    .dataframe tbody tr th {\n",
       "        vertical-align: top;\n",
       "    }\n",
       "\n",
       "    .dataframe thead th {\n",
       "        text-align: right;\n",
       "    }\n",
       "</style>\n",
       "<table border=\"1\" class=\"dataframe\">\n",
       "  <thead>\n",
       "    <tr style=\"text-align: right;\">\n",
       "      <th></th>\n",
       "      <th>Time</th>\n",
       "      <th>Training</th>\n",
       "    </tr>\n",
       "  </thead>\n",
       "  <tbody>\n",
       "    <tr>\n",
       "      <th>0</th>\n",
       "      <td>332</td>\n",
       "      <td>No</td>\n",
       "    </tr>\n",
       "    <tr>\n",
       "      <th>1</th>\n",
       "      <td>778</td>\n",
       "      <td>No</td>\n",
       "    </tr>\n",
       "    <tr>\n",
       "      <th>2</th>\n",
       "      <td>361</td>\n",
       "      <td>No</td>\n",
       "    </tr>\n",
       "    <tr>\n",
       "      <th>3</th>\n",
       "      <td>794</td>\n",
       "      <td>No</td>\n",
       "    </tr>\n",
       "  </tbody>\n",
       "</table>\n",
       "</div>"
      ],
      "text/plain": [
       "   Time Training\n",
       "0   332       No\n",
       "1   778       No\n",
       "2   361       No\n",
       "3   794       No"
      ]
     },
     "execution_count": 9,
     "metadata": {},
     "output_type": "execute_result"
    }
   ],
   "source": [
    "df_sewing.head(4)"
   ]
  },
  {
   "cell_type": "code",
   "execution_count": 10,
   "id": "eb769e58",
   "metadata": {},
   "outputs": [],
   "source": [
    "# Split in two lists for analysis\n",
    "train_no, train_yes = df_sewing[df_sewing['Training']=='No'].Training.values, df_sewing[df_sewing['Training']=='Yes'].Training.values"
   ]
  },
  {
   "cell_type": "code",
   "execution_count": 11,
   "id": "d8ed9718",
   "metadata": {},
   "outputs": [
    {
     "name": "stdout",
     "output_type": "stream",
     "text": [
      "56 records\n"
     ]
    },
    {
     "data": {
      "text/html": [
       "<div>\n",
       "<style scoped>\n",
       "    .dataframe tbody tr th:only-of-type {\n",
       "        vertical-align: middle;\n",
       "    }\n",
       "\n",
       "    .dataframe tbody tr th {\n",
       "        vertical-align: top;\n",
       "    }\n",
       "\n",
       "    .dataframe thead th {\n",
       "        text-align: right;\n",
       "    }\n",
       "</style>\n",
       "<table border=\"1\" class=\"dataframe\">\n",
       "  <thead>\n",
       "    <tr style=\"text-align: right;\">\n",
       "      <th></th>\n",
       "      <th>Time</th>\n",
       "      <th>Training</th>\n",
       "    </tr>\n",
       "  </thead>\n",
       "  <tbody>\n",
       "    <tr>\n",
       "      <th>0</th>\n",
       "      <td>332</td>\n",
       "      <td>No</td>\n",
       "    </tr>\n",
       "    <tr>\n",
       "      <th>1</th>\n",
       "      <td>778</td>\n",
       "      <td>No</td>\n",
       "    </tr>\n",
       "    <tr>\n",
       "      <th>2</th>\n",
       "      <td>361</td>\n",
       "      <td>No</td>\n",
       "    </tr>\n",
       "    <tr>\n",
       "      <th>3</th>\n",
       "      <td>794</td>\n",
       "      <td>No</td>\n",
       "    </tr>\n",
       "    <tr>\n",
       "      <th>4</th>\n",
       "      <td>231</td>\n",
       "      <td>No</td>\n",
       "    </tr>\n",
       "  </tbody>\n",
       "</table>\n",
       "</div>"
      ],
      "text/plain": [
       "   Time Training\n",
       "0   332       No\n",
       "1   778       No\n",
       "2   361       No\n",
       "3   794       No\n",
       "4   231       No"
      ]
     },
     "execution_count": 11,
     "metadata": {},
     "output_type": "execute_result"
    }
   ],
   "source": [
    "# replace column names\n",
    "print(\"{:,} records\".format(len(df_sewing)))\n",
    "df_sewing.head()"
   ]
  },
  {
   "cell_type": "markdown",
   "id": "c9cb72ac",
   "metadata": {},
   "source": [
    "### Plot distribution using BoxPlot"
   ]
  },
  {
   "cell_type": "code",
   "execution_count": 12,
   "id": "6924b484",
   "metadata": {},
   "outputs": [
    {
     "data": {
      "image/png": "[encoded data removed]",
      "text/plain": [
       "<Figure size 576x432 with 1 Axes>"
      ]
     },
     "metadata": {
      "needs_background": "light"
     },
     "output_type": "display_data"
    }
   ],
   "source": [
    "# Visualize distribution by Training Value using BoxPlot\n",
    "\n",
    "plt.figure(figsize=(8, 6))\n",
    "ax = sns.boxplot(x='Training', y='Time', data=df_sewing, color='#99c2a2')\n",
    "ax = sns.swarmplot(x=\"Training\", y=\"Time\", data=df_sewing, color='#7d0013')\n",
    "plt.ylabel('Time per batch of 30 labels (sec)')\n",
    "plt.show()"
   ]
  },
  {
   "cell_type": "markdown",
   "id": "c1572085",
   "metadata": {},
   "source": [
    "Based on the sample data, we can see that the median and the mean of the untrained operators is considerably lower for the operators who had training.  "
   ]
  },
  {
   "cell_type": "code",
   "execution_count": 13,
   "id": "f2856ee4",
   "metadata": {},
   "outputs": [],
   "source": [
    "# df_analysis\n",
    "df_analysis = df_sewing[df_sewing['Training']=='Yes'].describe()\n",
    "df_analysis.columns = ['Yes']\n"
   ]
  },
  {
   "cell_type": "code",
   "execution_count": 14,
   "id": "8b588e8b",
   "metadata": {},
   "outputs": [],
   "source": [
    "df_analysis['No'] = df_sewing[df_sewing['Training']=='No'].describe()\n",
    "df_analysis.to_csv('df_test.csv')\n",
    "\n"
   ]
  },
  {
   "cell_type": "markdown",
   "id": "f241def6",
   "metadata": {},
   "source": [
    "## 2. Analysis of Variance (ANOVA)"
   ]
  },
  {
   "cell_type": "markdown",
   "id": "8482d746",
   "metadata": {},
   "source": [
    "In this scenario, we want to check if the training (Variable X) is impacting the total time per batch (Variable Y).  \n",
    "Because X is a categorical variable (Training = Yes/No) and Y is numerical, the appropriate method is ANOVA.  \n",
    "**ANOVA** is a statistical method used to check if we can generalize the difference of means seen in the sample data to the entire population.\n",
    "\n"
   ]
  },
  {
   "cell_type": "markdown",
   "id": "1f126b86",
   "metadata": {},
   "source": [
    "###  Step 1: Calculate the  p-value using Welch's test"
   ]
  },
  {
   "cell_type": "code",
   "execution_count": 15,
   "id": "01b6478c",
   "metadata": {},
   "outputs": [
    {
     "data": {
      "text/html": [
       "<div>\n",
       "<style scoped>\n",
       "    .dataframe tbody tr th:only-of-type {\n",
       "        vertical-align: middle;\n",
       "    }\n",
       "\n",
       "    .dataframe tbody tr th {\n",
       "        vertical-align: top;\n",
       "    }\n",
       "\n",
       "    .dataframe thead th {\n",
       "        text-align: right;\n",
       "    }\n",
       "</style>\n",
       "<table border=\"1\" class=\"dataframe\">\n",
       "  <thead>\n",
       "    <tr style=\"text-align: right;\">\n",
       "      <th></th>\n",
       "      <th>0</th>\n",
       "    </tr>\n",
       "  </thead>\n",
       "  <tbody>\n",
       "    <tr>\n",
       "      <th>Source</th>\n",
       "      <td>Training</td>\n",
       "    </tr>\n",
       "    <tr>\n",
       "      <th>ddof1</th>\n",
       "      <td>1</td>\n",
       "    </tr>\n",
       "    <tr>\n",
       "      <th>ddof2</th>\n",
       "      <td>45.266971</td>\n",
       "    </tr>\n",
       "    <tr>\n",
       "      <th>F</th>\n",
       "      <td>17.106614</td>\n",
       "    </tr>\n",
       "    <tr>\n",
       "      <th>p-unc</th>\n",
       "      <td>0.000151</td>\n",
       "    </tr>\n",
       "    <tr>\n",
       "      <th>np2</th>\n",
       "      <td>0.173692</td>\n",
       "    </tr>\n",
       "  </tbody>\n",
       "</table>\n",
       "</div>"
      ],
      "text/plain": [
       "                0\n",
       "Source   Training\n",
       "ddof1           1\n",
       "ddof2   45.266971\n",
       "F       17.106614\n",
       "p-unc    0.000151\n",
       "np2      0.173692"
      ]
     },
     "execution_count": 15,
     "metadata": {},
     "output_type": "execute_result"
    }
   ],
   "source": [
    "#perform Welch's ANOVA\n",
    "pg.welch_anova(dv='Time', between='Training', data=df_sewing).T"
   ]
  },
  {
   "cell_type": "markdown",
   "id": "4de0e049",
   "metadata": {},
   "source": [
    "### Step 2: Validate the assumptions of ANOVA  \n",
    "Based on the p-value, we know that the difference of mean is real and not due to random fluctuation.\n",
    "However, before jumping to a conclusion we need to check that the ANOVA assumptions are satisfied\n"
   ]
  },
  {
   "cell_type": "markdown",
   "id": "ffbdf3a9",
   "metadata": {},
   "source": [
    "###  Perform ANOVA"
   ]
  },
  {
   "cell_type": "code",
   "execution_count": 16,
   "id": "aac7e415",
   "metadata": {},
   "outputs": [
    {
     "data": {
      "text/html": [
       "<div>\n",
       "<style scoped>\n",
       "    .dataframe tbody tr th:only-of-type {\n",
       "        vertical-align: middle;\n",
       "    }\n",
       "\n",
       "    .dataframe tbody tr th {\n",
       "        vertical-align: top;\n",
       "    }\n",
       "\n",
       "    .dataframe thead th {\n",
       "        text-align: right;\n",
       "    }\n",
       "</style>\n",
       "<table border=\"1\" class=\"dataframe\">\n",
       "  <thead>\n",
       "    <tr style=\"text-align: right;\">\n",
       "      <th></th>\n",
       "      <th>df</th>\n",
       "      <th>sum_sq</th>\n",
       "      <th>mean_sq</th>\n",
       "      <th>F</th>\n",
       "      <th>PR(&gt;F)</th>\n",
       "    </tr>\n",
       "  </thead>\n",
       "  <tbody>\n",
       "    <tr>\n",
       "      <th>C(Training)</th>\n",
       "      <td>1.0</td>\n",
       "      <td>3.942467e+05</td>\n",
       "      <td>394246.671429</td>\n",
       "      <td>11.350905</td>\n",
       "      <td>0.001398</td>\n",
       "    </tr>\n",
       "    <tr>\n",
       "      <th>Residual</th>\n",
       "      <td>54.0</td>\n",
       "      <td>1.875562e+06</td>\n",
       "      <td>34732.621164</td>\n",
       "      <td>NaN</td>\n",
       "      <td>NaN</td>\n",
       "    </tr>\n",
       "  </tbody>\n",
       "</table>\n",
       "</div>"
      ],
      "text/plain": [
       "               df        sum_sq        mean_sq          F    PR(>F)\n",
       "C(Training)   1.0  3.942467e+05  394246.671429  11.350905  0.001398\n",
       "Residual     54.0  1.875562e+06   34732.621164        NaN       NaN"
      ]
     },
     "execution_count": 16,
     "metadata": {},
     "output_type": "execute_result"
    }
   ],
   "source": [
    "res = stat()\n",
    "res.anova_stat(df=df_sewing, res_var='Training', anova_model='Time ~ C(Training)')\n",
    "res.anova_summary"
   ]
  },
  {
   "cell_type": "markdown",
   "id": "68087bbd",
   "metadata": {},
   "source": [
    "## Residual Plot"
   ]
  },
  {
   "cell_type": "markdown",
   "id": "b4135c58",
   "metadata": {},
   "source": [
    "## Assumptions of ANOVA\n",
    "\n",
    "## Residuals are naturally distributed ??\n",
    "## There are no outliers or irregularities ??\n"
   ]
  },
  {
   "cell_type": "code",
   "execution_count": 17,
   "id": "20d55f03",
   "metadata": {},
   "outputs": [
    {
     "data": {
      "image/png": "[encoded data removed]",
      "text/plain": [
       "<Figure size 432x288 with 1 Axes>"
      ]
     },
     "metadata": {
      "needs_background": "light"
     },
     "output_type": "display_data"
    },
    {
     "data": {
      "image/png": "[encoded data removed]",
      "text/plain": [
       "<Figure size 432x288 with 1 Axes>"
      ]
     },
     "metadata": {
      "needs_background": "light"
     },
     "output_type": "display_data"
    },
    {
     "data": {
      "image/png": "[encoded data removed]",
      "text/plain": [
       "<Figure size 432x288 with 1 Axes>"
      ]
     },
     "metadata": {
      "needs_background": "light"
     },
     "output_type": "display_data"
    }
   ],
   "source": [
    "# QQ-plot\n",
    "\n",
    "# ANOVA model\n",
    "res = stat()\n",
    "res.anova_stat(df=df_sewing, res_var='Training', anova_model='Time ~ C(Training)')\n",
    "\n",
    "# Residual Plot\n",
    "sm.qqplot(res.anova_std_residuals, line='45')\n",
    "plt.xlabel(\"Theoretical Quantiles\")\n",
    "plt.ylabel(\"Standardized Residuals\")\n",
    "plt.show()\n",
    "# histogram\n",
    "plt.hist(res.anova_model_out.resid, bins='auto', histtype='bar', ec='k') \n",
    "plt.xlabel(\"Residuals\")\n",
    "plt.ylabel('Frequency')\n",
    "plt.show()\n",
    "# histogram\n",
    "plt.plot(res.anova_model_out.resid, '-o')\n",
    "plt.xlabel(\"Residuals\")\n",
    "plt.ylabel('Frequency')\n",
    "plt.show()"
   ]
  },
  {
   "cell_type": "markdown",
   "id": "412683fa",
   "metadata": {},
   "source": [
    "### The graphs show that ANOVA assumptions donot hold"
   ]
  },
  {
   "cell_type": "markdown",
   "id": "4d3d794f",
   "metadata": {},
   "source": [
    "## Kruskal-Wallis test"
   ]
  },
  {
   "cell_type": "markdown",
   "id": "7c79cebe",
   "metadata": {},
   "source": [
    "If your sample data fails to meet ANOVA requirements, you can use Kruskal-Wallis Test to check if the difference of means is due to random fluctuation."
   ]
  },
  {
   "cell_type": "code",
   "execution_count": 18,
   "id": "769d5f8c",
   "metadata": {},
   "outputs": [
    {
     "data": {
      "text/plain": [
       "KruskalResult(statistic=54.999999999999986, pvalue=1.205298258444649e-13)"
      ]
     },
     "execution_count": 18,
     "metadata": {},
     "output_type": "execute_result"
    }
   ],
   "source": [
    "# Perform Kruskal-Wallis Test \n",
    "stats.kruskal(train_no, train_yes)"
   ]
  },
  {
   "cell_type": "markdown",
   "id": "961989e0",
   "metadata": {},
   "source": [
    "## Conclusion\n",
    "The p-value is below 5% so we can conclude that the difference of means is statically significant.\n",
    "We can confirm that the training has a positive impact on the productivity of the operators."
   ]
  }
 ],
 "metadata": {
  "kernelspec": {
   "display_name": "Python 3",
   "language": "python",
   "name": "python3"
  },
  "language_info": {
   "codemirror_mode": {
    "name": "ipython",
    "version": 3
   },
   "file_extension": ".py",
   "mimetype": "text/x-python",
   "name": "python",
   "nbconvert_exporter": "python",
   "pygments_lexer": "ipython3",
   "version": "3.8.8"
  }
 },
 "nbformat": 4,
 "nbformat_minor": 5
}
