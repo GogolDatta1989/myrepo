{
 "cells": [
  {
   "cell_type": "code",
   "execution_count": 18,
   "id": "aa202204",
   "metadata": {},
   "outputs": [],
   "source": [
    "import pandas as pd \n"
   ]
  },
  {
   "cell_type": "code",
   "execution_count": 19,
   "id": "404ac1cf",
   "metadata": {},
   "outputs": [],
   "source": [
    "player_data_import = pd.read_csv(\"/Users/deepjeetdatta/Downloads/players.csv\")"
   ]
  },
  {
   "cell_type": "code",
   "execution_count": 20,
   "id": "93fb95b3",
   "metadata": {},
   "outputs": [
    {
     "data": {
      "text/html": [
       "<div>\n",
       "<style scoped>\n",
       "    .dataframe tbody tr th:only-of-type {\n",
       "        vertical-align: middle;\n",
       "    }\n",
       "\n",
       "    .dataframe tbody tr th {\n",
       "        vertical-align: top;\n",
       "    }\n",
       "\n",
       "    .dataframe thead th {\n",
       "        text-align: right;\n",
       "    }\n",
       "</style>\n",
       "<table border=\"1\" class=\"dataframe\">\n",
       "  <thead>\n",
       "    <tr style=\"text-align: right;\">\n",
       "      <th></th>\n",
       "      <th>nflId</th>\n",
       "      <th>height</th>\n",
       "      <th>weight</th>\n",
       "      <th>birthDate</th>\n",
       "      <th>collegeName</th>\n",
       "      <th>Position</th>\n",
       "      <th>displayName</th>\n",
       "    </tr>\n",
       "  </thead>\n",
       "  <tbody>\n",
       "    <tr>\n",
       "      <th>0</th>\n",
       "      <td>42901</td>\n",
       "      <td>6-1</td>\n",
       "      <td>208</td>\n",
       "      <td>1992-07-25</td>\n",
       "      <td>James Madison</td>\n",
       "      <td>SS</td>\n",
       "      <td>Dean Marlowe</td>\n",
       "    </tr>\n",
       "    <tr>\n",
       "      <th>1</th>\n",
       "      <td>43501</td>\n",
       "      <td>6-0</td>\n",
       "      <td>220</td>\n",
       "      <td>1994-08-11</td>\n",
       "      <td>Central Michigan</td>\n",
       "      <td>FS</td>\n",
       "      <td>Kavon Frazier</td>\n",
       "    </tr>\n",
       "    <tr>\n",
       "      <th>2</th>\n",
       "      <td>43534</td>\n",
       "      <td>6-0</td>\n",
       "      <td>205</td>\n",
       "      <td>1993-06-02</td>\n",
       "      <td>Illinois</td>\n",
       "      <td>SS</td>\n",
       "      <td>Clayton Fejedelem</td>\n",
       "    </tr>\n",
       "    <tr>\n",
       "      <th>3</th>\n",
       "      <td>43535</td>\n",
       "      <td>6-1</td>\n",
       "      <td>235</td>\n",
       "      <td>1992-12-22</td>\n",
       "      <td>Temple</td>\n",
       "      <td>MLB</td>\n",
       "      <td>Tyler Matakevich</td>\n",
       "    </tr>\n",
       "    <tr>\n",
       "      <th>4</th>\n",
       "      <td>44174</td>\n",
       "      <td>6-1</td>\n",
       "      <td>236</td>\n",
       "      <td>1993-02-22</td>\n",
       "      <td>Texas Tech</td>\n",
       "      <td>ILB</td>\n",
       "      <td>Sam Eguavoen</td>\n",
       "    </tr>\n",
       "    <tr>\n",
       "      <th>...</th>\n",
       "      <td>...</td>\n",
       "      <td>...</td>\n",
       "      <td>...</td>\n",
       "      <td>...</td>\n",
       "      <td>...</td>\n",
       "      <td>...</td>\n",
       "      <td>...</td>\n",
       "    </tr>\n",
       "    <tr>\n",
       "      <th>2727</th>\n",
       "      <td>33216</td>\n",
       "      <td>6-3</td>\n",
       "      <td>320</td>\n",
       "      <td>06/16/1986</td>\n",
       "      <td>Central Florida</td>\n",
       "      <td>G</td>\n",
       "      <td>Josh Sitton</td>\n",
       "    </tr>\n",
       "    <tr>\n",
       "      <th>2728</th>\n",
       "      <td>33184</td>\n",
       "      <td>6-3</td>\n",
       "      <td>265</td>\n",
       "      <td>05/02/1985</td>\n",
       "      <td>Winston-Salem State</td>\n",
       "      <td>DE</td>\n",
       "      <td>William Hayes</td>\n",
       "    </tr>\n",
       "    <tr>\n",
       "      <th>2729</th>\n",
       "      <td>45651</td>\n",
       "      <td>5-9</td>\n",
       "      <td>198</td>\n",
       "      <td>06/16/1993</td>\n",
       "      <td>Iowa</td>\n",
       "      <td>WR</td>\n",
       "      <td>Riley McCarron</td>\n",
       "    </tr>\n",
       "    <tr>\n",
       "      <th>2730</th>\n",
       "      <td>41284</td>\n",
       "      <td>73</td>\n",
       "      <td>230</td>\n",
       "      <td>1992-10-20</td>\n",
       "      <td>LSU</td>\n",
       "      <td>RB</td>\n",
       "      <td>Jeremy Hill</td>\n",
       "    </tr>\n",
       "    <tr>\n",
       "      <th>2731</th>\n",
       "      <td>42849</td>\n",
       "      <td>5-10</td>\n",
       "      <td>205</td>\n",
       "      <td>12/14/1992</td>\n",
       "      <td>Texas Tech</td>\n",
       "      <td>WR</td>\n",
       "      <td>Bradley Marquez</td>\n",
       "    </tr>\n",
       "  </tbody>\n",
       "</table>\n",
       "<p>2732 rows × 7 columns</p>\n",
       "</div>"
      ],
      "text/plain": [
       "      nflId height  weight   birthDate          collegeName Position  \\\n",
       "0     42901    6-1     208  1992-07-25        James Madison       SS   \n",
       "1     43501    6-0     220  1994-08-11     Central Michigan       FS   \n",
       "2     43534    6-0     205  1993-06-02             Illinois       SS   \n",
       "3     43535    6-1     235  1992-12-22               Temple      MLB   \n",
       "4     44174    6-1     236  1993-02-22           Texas Tech      ILB   \n",
       "...     ...    ...     ...         ...                  ...      ...   \n",
       "2727  33216    6-3     320  06/16/1986      Central Florida        G   \n",
       "2728  33184    6-3     265  05/02/1985  Winston-Salem State       DE   \n",
       "2729  45651    5-9     198  06/16/1993                 Iowa       WR   \n",
       "2730  41284     73     230  1992-10-20                  LSU       RB   \n",
       "2731  42849   5-10     205  12/14/1992           Texas Tech       WR   \n",
       "\n",
       "            displayName  \n",
       "0          Dean Marlowe  \n",
       "1         Kavon Frazier  \n",
       "2     Clayton Fejedelem  \n",
       "3      Tyler Matakevich  \n",
       "4          Sam Eguavoen  \n",
       "...                 ...  \n",
       "2727        Josh Sitton  \n",
       "2728      William Hayes  \n",
       "2729     Riley McCarron  \n",
       "2730        Jeremy Hill  \n",
       "2731    Bradley Marquez  \n",
       "\n",
       "[2732 rows x 7 columns]"
      ]
     },
     "execution_count": 20,
     "metadata": {},
     "output_type": "execute_result"
    }
   ],
   "source": [
    "player_data_import"
   ]
  },
  {
   "cell_type": "code",
   "execution_count": 23,
   "id": "fc4d3ef7",
   "metadata": {},
   "outputs": [
    {
     "data": {
      "text/plain": [
       "0        [6, 1]\n",
       "1        [6, 0]\n",
       "2        [6, 0]\n",
       "3        [6, 1]\n",
       "4        [6, 1]\n",
       "         ...   \n",
       "2727     [6, 3]\n",
       "2728     [6, 3]\n",
       "2729     [5, 9]\n",
       "2730       [73]\n",
       "2731    [5, 10]\n",
       "Name: height, Length: 2732, dtype: object"
      ]
     },
     "execution_count": 23,
     "metadata": {},
     "output_type": "execute_result"
    }
   ],
   "source": [
    "player_data_import[\"height\"].apply(lambda x: x.split(\"-\"))"
   ]
  },
  {
   "cell_type": "code",
   "execution_count": 31,
   "id": "121a4b04",
   "metadata": {},
   "outputs": [],
   "source": [
    "player_data_import[\"height_inches\"] = player_data_import[\"height\"].apply(lambda x: int(x.split(\"-\")[0])*12 + int(x.split(\"-\")[1]) if len(x.split(\"-\"))== 2 else int(x))"
   ]
  },
  {
   "cell_type": "code",
   "execution_count": 32,
   "id": "1c267a2b",
   "metadata": {},
   "outputs": [
    {
     "data": {
      "text/html": [
       "<div>\n",
       "<style scoped>\n",
       "    .dataframe tbody tr th:only-of-type {\n",
       "        vertical-align: middle;\n",
       "    }\n",
       "\n",
       "    .dataframe tbody tr th {\n",
       "        vertical-align: top;\n",
       "    }\n",
       "\n",
       "    .dataframe thead th {\n",
       "        text-align: right;\n",
       "    }\n",
       "</style>\n",
       "<table border=\"1\" class=\"dataframe\">\n",
       "  <thead>\n",
       "    <tr style=\"text-align: right;\">\n",
       "      <th></th>\n",
       "      <th>nflId</th>\n",
       "      <th>height</th>\n",
       "      <th>weight</th>\n",
       "      <th>birthDate</th>\n",
       "      <th>collegeName</th>\n",
       "      <th>Position</th>\n",
       "      <th>displayName</th>\n",
       "      <th>height_inches</th>\n",
       "    </tr>\n",
       "  </thead>\n",
       "  <tbody>\n",
       "    <tr>\n",
       "      <th>0</th>\n",
       "      <td>42901</td>\n",
       "      <td>6-1</td>\n",
       "      <td>208</td>\n",
       "      <td>1992-07-25</td>\n",
       "      <td>James Madison</td>\n",
       "      <td>SS</td>\n",
       "      <td>Dean Marlowe</td>\n",
       "      <td>73</td>\n",
       "    </tr>\n",
       "    <tr>\n",
       "      <th>1</th>\n",
       "      <td>43501</td>\n",
       "      <td>6-0</td>\n",
       "      <td>220</td>\n",
       "      <td>1994-08-11</td>\n",
       "      <td>Central Michigan</td>\n",
       "      <td>FS</td>\n",
       "      <td>Kavon Frazier</td>\n",
       "      <td>72</td>\n",
       "    </tr>\n",
       "    <tr>\n",
       "      <th>2</th>\n",
       "      <td>43534</td>\n",
       "      <td>6-0</td>\n",
       "      <td>205</td>\n",
       "      <td>1993-06-02</td>\n",
       "      <td>Illinois</td>\n",
       "      <td>SS</td>\n",
       "      <td>Clayton Fejedelem</td>\n",
       "      <td>72</td>\n",
       "    </tr>\n",
       "    <tr>\n",
       "      <th>3</th>\n",
       "      <td>43535</td>\n",
       "      <td>6-1</td>\n",
       "      <td>235</td>\n",
       "      <td>1992-12-22</td>\n",
       "      <td>Temple</td>\n",
       "      <td>MLB</td>\n",
       "      <td>Tyler Matakevich</td>\n",
       "      <td>73</td>\n",
       "    </tr>\n",
       "    <tr>\n",
       "      <th>4</th>\n",
       "      <td>44174</td>\n",
       "      <td>6-1</td>\n",
       "      <td>236</td>\n",
       "      <td>1993-02-22</td>\n",
       "      <td>Texas Tech</td>\n",
       "      <td>ILB</td>\n",
       "      <td>Sam Eguavoen</td>\n",
       "      <td>73</td>\n",
       "    </tr>\n",
       "    <tr>\n",
       "      <th>...</th>\n",
       "      <td>...</td>\n",
       "      <td>...</td>\n",
       "      <td>...</td>\n",
       "      <td>...</td>\n",
       "      <td>...</td>\n",
       "      <td>...</td>\n",
       "      <td>...</td>\n",
       "      <td>...</td>\n",
       "    </tr>\n",
       "    <tr>\n",
       "      <th>2727</th>\n",
       "      <td>33216</td>\n",
       "      <td>6-3</td>\n",
       "      <td>320</td>\n",
       "      <td>06/16/1986</td>\n",
       "      <td>Central Florida</td>\n",
       "      <td>G</td>\n",
       "      <td>Josh Sitton</td>\n",
       "      <td>75</td>\n",
       "    </tr>\n",
       "    <tr>\n",
       "      <th>2728</th>\n",
       "      <td>33184</td>\n",
       "      <td>6-3</td>\n",
       "      <td>265</td>\n",
       "      <td>05/02/1985</td>\n",
       "      <td>Winston-Salem State</td>\n",
       "      <td>DE</td>\n",
       "      <td>William Hayes</td>\n",
       "      <td>75</td>\n",
       "    </tr>\n",
       "    <tr>\n",
       "      <th>2729</th>\n",
       "      <td>45651</td>\n",
       "      <td>5-9</td>\n",
       "      <td>198</td>\n",
       "      <td>06/16/1993</td>\n",
       "      <td>Iowa</td>\n",
       "      <td>WR</td>\n",
       "      <td>Riley McCarron</td>\n",
       "      <td>69</td>\n",
       "    </tr>\n",
       "    <tr>\n",
       "      <th>2730</th>\n",
       "      <td>41284</td>\n",
       "      <td>73</td>\n",
       "      <td>230</td>\n",
       "      <td>1992-10-20</td>\n",
       "      <td>LSU</td>\n",
       "      <td>RB</td>\n",
       "      <td>Jeremy Hill</td>\n",
       "      <td>73</td>\n",
       "    </tr>\n",
       "    <tr>\n",
       "      <th>2731</th>\n",
       "      <td>42849</td>\n",
       "      <td>5-10</td>\n",
       "      <td>205</td>\n",
       "      <td>12/14/1992</td>\n",
       "      <td>Texas Tech</td>\n",
       "      <td>WR</td>\n",
       "      <td>Bradley Marquez</td>\n",
       "      <td>70</td>\n",
       "    </tr>\n",
       "  </tbody>\n",
       "</table>\n",
       "<p>2732 rows × 8 columns</p>\n",
       "</div>"
      ],
      "text/plain": [
       "      nflId height  weight   birthDate          collegeName Position  \\\n",
       "0     42901    6-1     208  1992-07-25        James Madison       SS   \n",
       "1     43501    6-0     220  1994-08-11     Central Michigan       FS   \n",
       "2     43534    6-0     205  1993-06-02             Illinois       SS   \n",
       "3     43535    6-1     235  1992-12-22               Temple      MLB   \n",
       "4     44174    6-1     236  1993-02-22           Texas Tech      ILB   \n",
       "...     ...    ...     ...         ...                  ...      ...   \n",
       "2727  33216    6-3     320  06/16/1986      Central Florida        G   \n",
       "2728  33184    6-3     265  05/02/1985  Winston-Salem State       DE   \n",
       "2729  45651    5-9     198  06/16/1993                 Iowa       WR   \n",
       "2730  41284     73     230  1992-10-20                  LSU       RB   \n",
       "2731  42849   5-10     205  12/14/1992           Texas Tech       WR   \n",
       "\n",
       "            displayName  height_inches  \n",
       "0          Dean Marlowe             73  \n",
       "1         Kavon Frazier             72  \n",
       "2     Clayton Fejedelem             72  \n",
       "3      Tyler Matakevich             73  \n",
       "4          Sam Eguavoen             73  \n",
       "...                 ...            ...  \n",
       "2727        Josh Sitton             75  \n",
       "2728      William Hayes             75  \n",
       "2729     Riley McCarron             69  \n",
       "2730        Jeremy Hill             73  \n",
       "2731    Bradley Marquez             70  \n",
       "\n",
       "[2732 rows x 8 columns]"
      ]
     },
     "execution_count": 32,
     "metadata": {},
     "output_type": "execute_result"
    }
   ],
   "source": [
    "player_data_import"
   ]
  },
  {
   "cell_type": "code",
   "execution_count": 36,
   "id": "ccb204a6",
   "metadata": {},
   "outputs": [
    {
     "data": {
      "text/plain": [
       "Text(0.5, 1.0, 'Central Limit Theorem')"
      ]
     },
     "execution_count": 36,
     "metadata": {},
     "output_type": "execute_result"
    },
    {
     "data": {
      "image/png": "[encoded data removed]",
      "text/plain": [
       "<Figure size 432x288 with 1 Axes>"
      ]
     },
     "metadata": {
      "needs_background": "light"
     },
     "output_type": "display_data"
    }
   ],
   "source": [
    "import matplotlib.pyplot as plt\n",
    "\n",
    "sample_amounts = range(10, 100, 20)\n",
    "\n",
    "for x in sample_amounts:\n",
    "    samples = []\n",
    "    for i in range(1000):\n",
    "        samples.append(player_data_import[\"height_inches\"].sample(x).mean())\n",
    "    plt.hist(samples)\n",
    "plt.legend([str(z) + 'samples' for z in sample_amounts])\n",
    "plt.title(\"Central Limit Theorem\")\n"
   ]
  },
  {
   "cell_type": "code",
   "execution_count": 38,
   "id": "4e13f542",
   "metadata": {},
   "outputs": [
    {
     "data": {
      "text/plain": [
       "0.05065243293253027"
      ]
     },
     "execution_count": 38,
     "metadata": {},
     "output_type": "execute_result"
    }
   ],
   "source": [
    "player_data_import[\"height_inches\"].sem()"
   ]
  },
  {
   "cell_type": "code",
   "execution_count": 40,
   "id": "b5b7de2d",
   "metadata": {},
   "outputs": [
    {
     "name": "stdout",
     "output_type": "stream",
     "text": [
      "Bootstrap Statistics\n",
      "original: 74.0\n",
      "bias: 0.0\n",
      "std. error: 0.0\n"
     ]
    }
   ],
   "source": [
    "from sklearn.utils import resample\n",
    "\n",
    "results = []\n",
    "for nrepeat in range(1000):\n",
    "    sample = resample(player_data_import[\"height_inches\"])\n",
    "    results.append(sample.median())\n",
    "results = pd.Series(results)\n",
    "print('Bootstrap Statistics')\n",
    "print(f'original: {player_data_import[\"height_inches\"].median()}')\n",
    "print(f'bias: {results.mean() - player_data_import[\"height_inches\"].median()}')\n",
    "print(f'std. error: {results.std()}')"
   ]
  },
  {
   "cell_type": "code",
   "execution_count": 41,
   "id": "99d1661f",
   "metadata": {},
   "outputs": [
    {
     "data": {
      "text/plain": [
       "<AxesSubplot:>"
      ]
     },
     "execution_count": 41,
     "metadata": {},
     "output_type": "execute_result"
    },
    {
     "data": {
      "image/png": "[encoded data removed]",
      "text/plain": [
       "<Figure size 432x288 with 1 Axes>"
      ]
     },
     "metadata": {
      "needs_background": "light"
     },
     "output_type": "display_data"
    }
   ],
   "source": [
    "player_data_import[\"height_inches\"].hist()"
   ]
  },
  {
   "cell_type": "code",
   "execution_count": 46,
   "id": "f01387d4",
   "metadata": {},
   "outputs": [
    {
     "name": "stdout",
     "output_type": "stream",
     "text": [
      "Bootstrap Statistics\n",
      "original: 74.0106149341142\n",
      "bias: -0.0015475841874916796\n",
      "std. error: 0.051648553949013826\n"
     ]
    }
   ],
   "source": [
    "from sklearn.utils import resample\n",
    "\n",
    "results = []\n",
    "for nrepeat in range(1000):\n",
    "    sample = resample(player_data_import[\"height_inches\"])\n",
    "    results.append(sample.mean())\n",
    "results = pd.Series(results)\n",
    "print('Bootstrap Statistics')\n",
    "print(f'original: {player_data_import[\"height_inches\"].mean()}')\n",
    "print(f'bias: {results.mean() - player_data_import[\"height_inches\"].mean()}')\n",
    "print(f'std. error: {results.std()}')"
   ]
  },
  {
   "cell_type": "code",
   "execution_count": 50,
   "id": "4bd35b16",
   "metadata": {},
   "outputs": [
    {
     "data": {
      "text/plain": [
       "(71.6396036490789, 74.26039635092111)"
      ]
     },
     "execution_count": 50,
     "metadata": {},
     "output_type": "execute_result"
    }
   ],
   "source": [
    "import numpy as np\n",
    "import scipy.stats as st\n",
    "\n",
    "data = player_data_import[\"height_inches\"][:20]\n",
    "st.t.interval(alpha=0.95, df=len(data)-1, loc=np.mean(data), scale=st.sem(data))"
   ]
  },
  {
   "cell_type": "code",
   "execution_count": 57,
   "id": "a62a738a",
   "metadata": {},
   "outputs": [
    {
     "data": {
      "text/plain": [
       "(73.92590128473445, 74.19009871526556)"
      ]
     },
     "execution_count": 57,
     "metadata": {},
     "output_type": "execute_result"
    }
   ],
   "source": [
    "import numpy as np\n",
    "import scipy.stats as st\n",
    "np.random.seed(0)\n",
    "data = player_data_import[\"height_inches\"].sample(1500)\n",
    "st.norm.interval(alpha=0.95, loc=np.mean(data), scale=st.sem(data))"
   ]
  },
  {
   "cell_type": "code",
   "execution_count": null,
   "id": "72d3a190",
   "metadata": {},
   "outputs": [],
   "source": []
  }
 ],
 "metadata": {
  "kernelspec": {
   "display_name": "Python 3",
   "language": "python",
   "name": "python3"
  },
  "language_info": {
   "codemirror_mode": {
    "name": "ipython",
    "version": 3
   },
   "file_extension": ".py",
   "mimetype": "text/x-python",
   "name": "python",
   "nbconvert_exporter": "python",
   "pygments_lexer": "ipython3",
   "version": "3.8.8"
  }
 },
 "nbformat": 4,
 "nbformat_minor": 5
}
